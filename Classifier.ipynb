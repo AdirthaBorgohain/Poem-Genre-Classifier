{
 "cells": [
  {
   "cell_type": "code",
   "execution_count": 1,
   "metadata": {},
   "outputs": [],
   "source": [
    "import pandas as pd\n",
    "import matplotlib.pyplot as plt\n",
    "%matplotlib inline\n",
    "\n",
    "import warnings\n",
    "warnings.filterwarnings(\"ignore\")"
   ]
  },
  {
   "cell_type": "code",
   "execution_count": 2,
   "metadata": {},
   "outputs": [
    {
     "data": {
      "text/html": [
       "<div>\n",
       "<style scoped>\n",
       "    .dataframe tbody tr th:only-of-type {\n",
       "        vertical-align: middle;\n",
       "    }\n",
       "\n",
       "    .dataframe tbody tr th {\n",
       "        vertical-align: top;\n",
       "    }\n",
       "\n",
       "    .dataframe thead th {\n",
       "        text-align: right;\n",
       "    }\n",
       "</style>\n",
       "<table border=\"1\" class=\"dataframe\">\n",
       "  <thead>\n",
       "    <tr style=\"text-align: right;\">\n",
       "      <th></th>\n",
       "      <th>Poem</th>\n",
       "      <th>Genre</th>\n",
       "    </tr>\n",
       "  </thead>\n",
       "  <tbody>\n",
       "    <tr>\n",
       "      <th>0</th>\n",
       "      <td>On moonlit heath and lonesome bank The sheep b...</td>\n",
       "      <td>Death</td>\n",
       "    </tr>\n",
       "    <tr>\n",
       "      <th>1</th>\n",
       "      <td>“Lights out\" along the land, “Lights out” upon...</td>\n",
       "      <td>Death</td>\n",
       "    </tr>\n",
       "    <tr>\n",
       "      <th>2</th>\n",
       "      <td>I am a garden of red tulips And late daffodils...</td>\n",
       "      <td>Death</td>\n",
       "    </tr>\n",
       "    <tr>\n",
       "      <th>3</th>\n",
       "      <td>New moon in midheaven, in Libra.The hermit wie...</td>\n",
       "      <td>Death</td>\n",
       "    </tr>\n",
       "    <tr>\n",
       "      <th>4</th>\n",
       "      <td>All the hills and vales along Earth is burstin...</td>\n",
       "      <td>Death</td>\n",
       "    </tr>\n",
       "  </tbody>\n",
       "</table>\n",
       "</div>"
      ],
      "text/plain": [
       "                                                Poem  Genre\n",
       "0  On moonlit heath and lonesome bank The sheep b...  Death\n",
       "1  “Lights out\" along the land, “Lights out” upon...  Death\n",
       "2  I am a garden of red tulips And late daffodils...  Death\n",
       "3  New moon in midheaven, in Libra.The hermit wie...  Death\n",
       "4  All the hills and vales along Earth is burstin...  Death"
      ]
     },
     "execution_count": 2,
     "metadata": {},
     "output_type": "execute_result"
    }
   ],
   "source": [
    "#Loading Data\n",
    "data = pd.read_csv('poems.csv')\n",
    "data.head()"
   ]
  },
  {
   "cell_type": "code",
   "execution_count": 3,
   "metadata": {},
   "outputs": [
    {
     "data": {
      "text/plain": [
       "Audio     254\n",
       "Nature    253\n",
       "Death     250\n",
       "Love      242\n",
       "Name: Genre, dtype: int64"
      ]
     },
     "execution_count": 3,
     "metadata": {},
     "output_type": "execute_result"
    }
   ],
   "source": [
    "data['Genre'].value_counts()"
   ]
  },
  {
   "cell_type": "code",
   "execution_count": 4,
   "metadata": {},
   "outputs": [
    {
     "data": {
      "text/html": [
       "<div>\n",
       "<style scoped>\n",
       "    .dataframe tbody tr th:only-of-type {\n",
       "        vertical-align: middle;\n",
       "    }\n",
       "\n",
       "    .dataframe tbody tr th {\n",
       "        vertical-align: top;\n",
       "    }\n",
       "\n",
       "    .dataframe thead th {\n",
       "        text-align: right;\n",
       "    }\n",
       "</style>\n",
       "<table border=\"1\" class=\"dataframe\">\n",
       "  <thead>\n",
       "    <tr style=\"text-align: right;\">\n",
       "      <th></th>\n",
       "      <th>Poem</th>\n",
       "      <th>Genre</th>\n",
       "      <th>FilterPoem</th>\n",
       "    </tr>\n",
       "  </thead>\n",
       "  <tbody>\n",
       "    <tr>\n",
       "      <th>0</th>\n",
       "      <td>On moonlit heath and lonesome bank The sheep b...</td>\n",
       "      <td>Death</td>\n",
       "      <td>on moonlit heath lonesom bank the sheep besid ...</td>\n",
       "    </tr>\n",
       "    <tr>\n",
       "      <th>1</th>\n",
       "      <td>“Lights out\" along the land, “Lights out” upon...</td>\n",
       "      <td>Death</td>\n",
       "      <td>light out along land light out upon sea the ni...</td>\n",
       "    </tr>\n",
       "    <tr>\n",
       "      <th>2</th>\n",
       "      <td>I am a garden of red tulips And late daffodils...</td>\n",
       "      <td>Death</td>\n",
       "      <td>i garden red tulip and late daffodil bay hedg ...</td>\n",
       "    </tr>\n",
       "    <tr>\n",
       "      <th>3</th>\n",
       "      <td>New moon in midheaven, in Libra.The hermit wie...</td>\n",
       "      <td>Death</td>\n",
       "      <td>new moon midheaven libra the hermit wield two ...</td>\n",
       "    </tr>\n",
       "    <tr>\n",
       "      <th>4</th>\n",
       "      <td>All the hills and vales along Earth is burstin...</td>\n",
       "      <td>Death</td>\n",
       "      <td>all hill vale along earth burst song and singe...</td>\n",
       "    </tr>\n",
       "  </tbody>\n",
       "</table>\n",
       "</div>"
      ],
      "text/plain": [
       "                                                Poem  Genre  \\\n",
       "0  On moonlit heath and lonesome bank The sheep b...  Death   \n",
       "1  “Lights out\" along the land, “Lights out” upon...  Death   \n",
       "2  I am a garden of red tulips And late daffodils...  Death   \n",
       "3  New moon in midheaven, in Libra.The hermit wie...  Death   \n",
       "4  All the hills and vales along Earth is burstin...  Death   \n",
       "\n",
       "                                          FilterPoem  \n",
       "0  on moonlit heath lonesom bank the sheep besid ...  \n",
       "1  light out along land light out upon sea the ni...  \n",
       "2  i garden red tulip and late daffodil bay hedg ...  \n",
       "3  new moon midheaven libra the hermit wield two ...  \n",
       "4  all hill vale along earth burst song and singe...  "
      ]
     },
     "execution_count": 4,
     "metadata": {},
     "output_type": "execute_result"
    }
   ],
   "source": [
    "import string\n",
    "from nltk.corpus import stopwords\n",
    "from nltk.stem.porter import PorterStemmer\n",
    "\n",
    "stop = stopwords.words('english')\n",
    "porter_stemmer = PorterStemmer()\n",
    "\n",
    "# Removing stop words from poems\n",
    "data['FilterPoem'] = data['Poem'].str.split(' ').apply(lambda x: ' '.join(k for k in x if k not in stop))\n",
    "\n",
    "# Converting poems to lowercase\n",
    "data['FilterPoem'] = data['FilterPoem'].apply(lambda x: x.lower())\n",
    "\n",
    "# Removing punctuations and all digits from poems\n",
    "filterString = string.punctuation + '“”|”' + string.digits\n",
    "data['FilterPoem'] = data['FilterPoem'].apply(lambda x: x.translate(str.maketrans(filterString,' '*len(filterString),'')))\n",
    "data['FilterPoem'] = data['FilterPoem'].replace('\\s+', ' ', regex=True)\n",
    "\n",
    "# Stemming all words in the poems\n",
    "data['FilterPoem'] = data['FilterPoem'].apply(lambda x: ' '.join([porter_stemmer.stem(y) if y not in stop \n",
    "                                                                    else y for y in x.split()]))\n",
    "\n",
    "data.head()"
   ]
  },
  {
   "cell_type": "code",
   "execution_count": 5,
   "metadata": {},
   "outputs": [
    {
     "data": {
      "application/vnd.jupyter.widget-view+json": {
       "model_id": "75bc2db2ce644ce199dbb821e64b4f66",
       "version_major": 2,
       "version_minor": 0
      },
      "text/plain": [
       "interactive(children=(Dropdown(description='genre', options=('Death', 'Audio', 'Nature', 'Love'), value='Death…"
      ]
     },
     "metadata": {},
     "output_type": "display_data"
    }
   ],
   "source": [
    "from wordcloud import WordCloud\n",
    "from ipywidgets import interact\n",
    "\n",
    "genre_list = ['Death', 'Audio', 'Nature', 'Love']\n",
    "\n",
    "@interact\n",
    "def plot_word_cloud(genre=genre_list):\n",
    "    \n",
    "    sample_data = data[data['Genre'] == genre]\n",
    "    text = ' '.join(sample_data['Poem'].tolist())\n",
    "    wordcloud = WordCloud(max_font_size=60, stopwords=stop).generate(text)\n",
    "        \n",
    "    plt.figure(figsize=(12,12))\n",
    "    plt.imshow(wordcloud)\n",
    "    plt.axis(\"off\")\n",
    "    plt.title('WordCloud for {}'.format(genre))"
   ]
  },
  {
   "cell_type": "code",
   "execution_count": 6,
   "metadata": {},
   "outputs": [],
   "source": [
    "X = data['FilterPoem']\n",
    "y = data['Genre']"
   ]
  },
  {
   "cell_type": "code",
   "execution_count": 7,
   "metadata": {},
   "outputs": [],
   "source": [
    "# Importing required Libraries\n",
    "from sklearn.pipeline import Pipeline\n",
    "from sklearn.feature_extraction.text import TfidfVectorizer\n",
    "from sklearn.preprocessing import FunctionTransformer\n",
    "from sklearn.linear_model import LogisticRegression, SGDClassifier\n",
    "from sklearn.feature_extraction.text import CountVectorizer\n",
    "from sklearn.decomposition import KernelPCA\n",
    "from sklearn.model_selection import train_test_split\n",
    "from sklearn.metrics import accuracy_score"
   ]
  },
  {
   "cell_type": "code",
   "execution_count": 8,
   "metadata": {},
   "outputs": [],
   "source": [
    "X_train,X_test,y_train,y_test = train_test_split(X,y,test_size = 0.30,random_state = 0)\n",
    "\n",
    "# Vectorization-->\n",
    "vector = CountVectorizer(stop_words = 'english')"
   ]
  },
  {
   "cell_type": "code",
   "execution_count": 9,
   "metadata": {},
   "outputs": [],
   "source": [
    "dtm1 = vector.fit_transform(X_train)\n",
    "dtm2 = vector.transform(X_test)"
   ]
  },
  {
   "cell_type": "code",
   "execution_count": 10,
   "metadata": {},
   "outputs": [],
   "source": [
    "#n_components = 4 for 4 genres\n",
    "PCA = KernelPCA(n_components = 4)\n",
    "\n",
    "dm1 = PCA.fit_transform(dtm1)\n",
    "dm2 = PCA.transform(dtm2)"
   ]
  },
  {
   "cell_type": "code",
   "execution_count": 11,
   "metadata": {},
   "outputs": [],
   "source": [
    "# Prediction of classes according to PCA\n",
    "Y_train = dm1.argmax(axis = 1)\n",
    "Y_test = dm2.argmax(axis = 1)"
   ]
  },
  {
   "cell_type": "code",
   "execution_count": 14,
   "metadata": {},
   "outputs": [
    {
     "data": {
      "text/plain": [
       "Pipeline(memory=None,\n",
       "     steps=[('Tfidf', TfidfVectorizer(analyzer='word', binary=False, decode_error='strict',\n",
       "        dtype=<class 'numpy.float64'>, encoding='utf-8', input='content',\n",
       "        lowercase=True, max_df=0.95, max_features=None, min_df=2,\n",
       "        ngram_range=(1, 1), norm='l2', preprocessor=None, smooth_idf=True...penalty='l2', random_state=None, solver='warn',\n",
       "          tol=0.0001, verbose=0, warm_start=False))])"
      ]
     },
     "execution_count": 14,
     "metadata": {},
     "output_type": "execute_result"
    }
   ],
   "source": [
    "LRClassifier = Pipeline([\n",
    "                (\"Tfidf\", TfidfVectorizer(min_df = 2,max_df = 0.95)),\n",
    "                (\"ToDense\",FunctionTransformer(lambda x: x.todense(), accept_sparse=True, validate=False)),\n",
    "                (\"Classifier\",LogisticRegression())\n",
    "])\n",
    "\n",
    "LRClassifier.fit(X_train,Y_train)"
   ]
  },
  {
   "cell_type": "code",
   "execution_count": 15,
   "metadata": {},
   "outputs": [
    {
     "name": "stdout",
     "output_type": "stream",
     "text": [
      "Accuracy (Logistic Regression): 70.33333333333334%\n"
     ]
    }
   ],
   "source": [
    "LRPred = LRClassifier.predict(X_test)\n",
    "\n",
    "print(f\"Accuracy (Logistic Regression): {accuracy_score(Y_test,LRPred) * 100}%\")"
   ]
  },
  {
   "cell_type": "code",
   "execution_count": null,
   "metadata": {},
   "outputs": [],
   "source": [
    "SGDClassifier = Pipeline([\n",
    "                (\"Tfidf\", TfidfVectorizer(min_df = 2,max_df = 0.95)),\n",
    "                (\"ToDense\",FunctionTransformer(lambda x: x.todense(), accept_sparse=True, validate=False)),\n",
    "                (\"Classifier\",SGDClassifier(max_iter=5, tol=None))\n",
    "])\n",
    "\n",
    "SGDClassifier.fit(X_train,Y_train)"
   ]
  },
  {
   "cell_type": "code",
   "execution_count": null,
   "metadata": {},
   "outputs": [],
   "source": [
    "SGDPred = SGDClassifier.predict(X_test)\n",
    "\n",
    "print(f'Accuracy (SGDClassifier): {accuracy_score(Y_test,SGDPred) * 100}%')"
   ]
  }
 ],
 "metadata": {
  "kernelspec": {
   "display_name": "Python 3",
   "language": "python",
   "name": "python3"
  },
  "language_info": {
   "codemirror_mode": {
    "name": "ipython",
    "version": 3
   },
   "file_extension": ".py",
   "mimetype": "text/x-python",
   "name": "python",
   "nbconvert_exporter": "python",
   "pygments_lexer": "ipython3",
   "version": "3.6.7"
  }
 },
 "nbformat": 4,
 "nbformat_minor": 2
}
