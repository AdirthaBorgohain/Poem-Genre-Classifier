{
 "cells": [
  {
   "cell_type": "code",
   "execution_count": 1,
   "metadata": {},
   "outputs": [],
   "source": [
    "import pandas as pd\n",
    "import matplotlib.pyplot as plt\n",
    "%matplotlib inline\n",
    "\n",
    "# Ignoring deprecation warnings\n",
    "import warnings\n",
    "warnings.filterwarnings(\"ignore\")"
   ]
  },
  {
   "cell_type": "code",
   "execution_count": 2,
   "metadata": {},
   "outputs": [
    {
     "data": {
      "text/html": [
       "<div>\n",
       "<style scoped>\n",
       "    .dataframe tbody tr th:only-of-type {\n",
       "        vertical-align: middle;\n",
       "    }\n",
       "\n",
       "    .dataframe tbody tr th {\n",
       "        vertical-align: top;\n",
       "    }\n",
       "\n",
       "    .dataframe thead th {\n",
       "        text-align: right;\n",
       "    }\n",
       "</style>\n",
       "<table border=\"1\" class=\"dataframe\">\n",
       "  <thead>\n",
       "    <tr style=\"text-align: right;\">\n",
       "      <th></th>\n",
       "      <th>poem</th>\n",
       "      <th>theme</th>\n",
       "    </tr>\n",
       "  </thead>\n",
       "  <tbody>\n",
       "    <tr>\n",
       "      <th>0</th>\n",
       "      <td>I was sympathetic to language, but often it sh...</td>\n",
       "      <td>Love</td>\n",
       "    </tr>\n",
       "    <tr>\n",
       "      <th>1</th>\n",
       "      <td>When, at the end, the children wanted  to add ...</td>\n",
       "      <td>Love</td>\n",
       "    </tr>\n",
       "    <tr>\n",
       "      <th>2</th>\n",
       "      <td>turns out there are more planets than stars mo...</td>\n",
       "      <td>Love</td>\n",
       "    </tr>\n",
       "    <tr>\n",
       "      <th>3</th>\n",
       "      <td>We walk through clouds wrapped in ancient symb...</td>\n",
       "      <td>Love</td>\n",
       "    </tr>\n",
       "    <tr>\n",
       "      <th>4</th>\n",
       "      <td>Love me stupid. Love me terrible. And when I a...</td>\n",
       "      <td>Love</td>\n",
       "    </tr>\n",
       "  </tbody>\n",
       "</table>\n",
       "</div>"
      ],
      "text/plain": [
       "                                                poem theme\n",
       "0  I was sympathetic to language, but often it sh...  Love\n",
       "1  When, at the end, the children wanted  to add ...  Love\n",
       "2  turns out there are more planets than stars mo...  Love\n",
       "3  We walk through clouds wrapped in ancient symb...  Love\n",
       "4  Love me stupid. Love me terrible. And when I a...  Love"
      ]
     },
     "execution_count": 2,
     "metadata": {},
     "output_type": "execute_result"
    }
   ],
   "source": [
    "# Loading the csv\n",
    "data = pd.read_csv('poem_dataset.csv')\n",
    "data.head()"
   ]
  },
  {
   "cell_type": "code",
   "execution_count": 3,
   "metadata": {},
   "outputs": [
    {
     "data": {
      "text/plain": [
       "Love        367\n",
       "Nature      362\n",
       "Death       336\n",
       "Identity    292\n",
       "Name: theme, dtype: int64"
      ]
     },
     "execution_count": 3,
     "metadata": {},
     "output_type": "execute_result"
    }
   ],
   "source": [
    "# Counting no. of data for each genre\n",
    "data['theme'].value_counts()"
   ]
  },
  {
   "cell_type": "code",
   "execution_count": 4,
   "metadata": {},
   "outputs": [
    {
     "data": {
      "text/html": [
       "<div>\n",
       "<style scoped>\n",
       "    .dataframe tbody tr th:only-of-type {\n",
       "        vertical-align: middle;\n",
       "    }\n",
       "\n",
       "    .dataframe tbody tr th {\n",
       "        vertical-align: top;\n",
       "    }\n",
       "\n",
       "    .dataframe thead th {\n",
       "        text-align: right;\n",
       "    }\n",
       "</style>\n",
       "<table border=\"1\" class=\"dataframe\">\n",
       "  <thead>\n",
       "    <tr style=\"text-align: right;\">\n",
       "      <th></th>\n",
       "      <th>poem</th>\n",
       "      <th>theme</th>\n",
       "      <th>FilterPoem</th>\n",
       "    </tr>\n",
       "  </thead>\n",
       "  <tbody>\n",
       "    <tr>\n",
       "      <th>0</th>\n",
       "      <td>I was sympathetic to language, but often it sh...</td>\n",
       "      <td>Love</td>\n",
       "      <td>i sympathetic language often shrugged kept lov...</td>\n",
       "    </tr>\n",
       "    <tr>\n",
       "      <th>1</th>\n",
       "      <td>When, at the end, the children wanted  to add ...</td>\n",
       "      <td>Love</td>\n",
       "      <td>when end children wanted add glitter valentine...</td>\n",
       "    </tr>\n",
       "    <tr>\n",
       "      <th>2</th>\n",
       "      <td>turns out there are more planets than stars mo...</td>\n",
       "      <td>Love</td>\n",
       "      <td>turns planets stars places land burned i alway...</td>\n",
       "    </tr>\n",
       "    <tr>\n",
       "      <th>3</th>\n",
       "      <td>We walk through clouds wrapped in ancient symb...</td>\n",
       "      <td>Love</td>\n",
       "      <td>we walk clouds wrapped ancient symbols we desc...</td>\n",
       "    </tr>\n",
       "    <tr>\n",
       "      <th>4</th>\n",
       "      <td>Love me stupid. Love me terrible. And when I a...</td>\n",
       "      <td>Love</td>\n",
       "      <td>love stupid love terrible and i mountain rathe...</td>\n",
       "    </tr>\n",
       "  </tbody>\n",
       "</table>\n",
       "</div>"
      ],
      "text/plain": [
       "                                                poem theme  \\\n",
       "0  I was sympathetic to language, but often it sh...  Love   \n",
       "1  When, at the end, the children wanted  to add ...  Love   \n",
       "2  turns out there are more planets than stars mo...  Love   \n",
       "3  We walk through clouds wrapped in ancient symb...  Love   \n",
       "4  Love me stupid. Love me terrible. And when I a...  Love   \n",
       "\n",
       "                                          FilterPoem  \n",
       "0  i sympathetic language often shrugged kept lov...  \n",
       "1  when end children wanted add glitter valentine...  \n",
       "2  turns planets stars places land burned i alway...  \n",
       "3  we walk clouds wrapped ancient symbols we desc...  \n",
       "4  love stupid love terrible and i mountain rathe...  "
      ]
     },
     "execution_count": 4,
     "metadata": {},
     "output_type": "execute_result"
    }
   ],
   "source": [
    "import string\n",
    "from nltk.corpus import stopwords\n",
    "from textblob import Word\n",
    "\n",
    "stop = stopwords.words('english')\n",
    "newStopWord = ['like','yet']\n",
    "stop.extend(newStopWord)\n",
    "\n",
    "# Removing stop words from poems\n",
    "data['FilterPoem'] = data['poem'].str.split(' ').apply(lambda x: ' '.join(k for k in x if k not in stop))\n",
    "\n",
    "# Converting poems to lowercase\n",
    "data['FilterPoem'] = data['FilterPoem'].apply(lambda x: x.lower())\n",
    "\n",
    "# Removing punctuations and all digits from poems\n",
    "filterString = string.punctuation + '“”|”' + string.digits\n",
    "data['FilterPoem'] = data['FilterPoem'].apply(lambda x: x.translate(str.maketrans(filterString,' '*len(filterString),'')))\n",
    "data['FilterPoem'] = data['FilterPoem'].replace('\\s+', ' ', regex=True)\n",
    "\n",
    "# Lemmatizing all words in the poems\n",
    "data['FilterPoem'] = data['FilterPoem'].apply(lambda x: \"\".join([Word(word).lemmatize() for word in x]))\n",
    "\n",
    "\n",
    "data.head()"
   ]
  },
  {
   "cell_type": "code",
   "execution_count": 5,
   "metadata": {},
   "outputs": [
    {
     "data": {
      "application/vnd.jupyter.widget-view+json": {
       "model_id": "45240b3c652d49dd8aa780940674a7db",
       "version_major": 2,
       "version_minor": 0
      },
      "text/plain": [
       "interactive(children=(Dropdown(description='theme', options=('Love', 'Nature', 'Death', 'Identity'), value='Lo…"
      ]
     },
     "metadata": {},
     "output_type": "display_data"
    }
   ],
   "source": [
    "from wordcloud import WordCloud\n",
    "from ipywidgets import interact\n",
    "\n",
    "theme_list = ['Love', 'Nature', 'Death', 'Identity']\n",
    "\n",
    "# Generating wordcloud for visualization of highly recurring words for each theme\n",
    "@interact\n",
    "def plot_word_cloud(theme=theme_list):\n",
    "    \n",
    "    sample_data = data[data['theme'] == theme]\n",
    "    text = ' '.join(sample_data['FilterPoem'].tolist())\n",
    "    wordcloud = WordCloud(max_font_size=60, stopwords=stop).generate(text)\n",
    "        \n",
    "    plt.figure(figsize=(12,12))\n",
    "    plt.imshow(wordcloud)\n",
    "    plt.axis(\"off\")\n",
    "    plt.title('WordCloud for {}'.format(theme))"
   ]
  },
  {
   "cell_type": "code",
   "execution_count": 6,
   "metadata": {},
   "outputs": [],
   "source": [
    "from sklearn.feature_extraction.text import CountVectorizer\n",
    "from sklearn.decomposition import KernelPCA\n",
    "from sklearn.pipeline import make_pipeline\n",
    "from sklearn.feature_extraction.text import TfidfVectorizer\n",
    "from sklearn.preprocessing import FunctionTransformer\n",
    "from sklearn.linear_model import LogisticRegression\n",
    "from sklearn.naive_bayes import BernoulliNB\n",
    "from sklearn.model_selection import train_test_split\n",
    "from sklearn.metrics import accuracy_score"
   ]
  },
  {
   "cell_type": "code",
   "execution_count": 7,
   "metadata": {},
   "outputs": [],
   "source": [
    "vector = CountVectorizer(min_df = 2,max_df = 0.95, stop_words=stop)\n",
    "\n",
    "# Defining X and y for the data\n",
    "X = data['FilterPoem']\n",
    "y = data['theme']\n",
    "\n",
    "# Generating train and test set\n",
    "X_train,X_test,y_train,y_test = train_test_split(X,y,test_size = 0.30,random_state = 0)\n",
    "\n",
    "X_train_dtm = vector.fit_transform(X_train)\n",
    "X_test_dtm = vector.transform(X_test)"
   ]
  },
  {
   "cell_type": "code",
   "execution_count": 8,
   "metadata": {},
   "outputs": [],
   "source": [
    "# Decomposing the matrix for reducing high dimensionality\n",
    "PCA = KernelPCA(n_components = 4)\n",
    "\n",
    "X_train_dm = PCA.fit_transform(X_train_dtm)\n",
    "X_test_dm = PCA.transform(X_test_dtm)"
   ]
  },
  {
   "cell_type": "code",
   "execution_count": 9,
   "metadata": {},
   "outputs": [],
   "source": [
    "Y_train = X_train_dm.argmax(axis = 1)\n",
    "Y_test = X_test_dm.argmax(axis = 1)"
   ]
  },
  {
   "cell_type": "code",
   "execution_count": 10,
   "metadata": {},
   "outputs": [
    {
     "data": {
      "text/plain": [
       "Pipeline(memory=None,\n",
       "     steps=[('tfidfvectorizer', TfidfVectorizer(analyzer='word', binary=False, decode_error='strict',\n",
       "        dtype=<class 'numpy.float64'>, encoding='utf-8', input='content',\n",
       "        lowercase=True, max_df=0.95, max_features=None, min_df=2,\n",
       "        ngram_range=(1, 1), norm='l2', preprocessor=None, smoot...penalty='l2', random_state=None, solver='warn',\n",
       "          tol=0.0001, verbose=0, warm_start=False))])"
      ]
     },
     "execution_count": 10,
     "metadata": {},
     "output_type": "execute_result"
    }
   ],
   "source": [
    "# Defining Logistic Regression classifier\n",
    "LRClassifier = make_pipeline(TfidfVectorizer(min_df = 2,max_df = 0.95),\n",
    "                             FunctionTransformer(lambda x: x.todense(), accept_sparse=True, validate=False),\n",
    "                             LogisticRegression())\n",
    "\n",
    "LRClassifier.fit(X_train,Y_train)"
   ]
  },
  {
   "cell_type": "code",
   "execution_count": 11,
   "metadata": {},
   "outputs": [
    {
     "name": "stdout",
     "output_type": "stream",
     "text": [
      "Accuracy (Logistic Regression): 65.19607843137256%\n"
     ]
    }
   ],
   "source": [
    "# Predicting the values using Logistic Regression\n",
    "LRPred = LRClassifier.predict(X_test)\n",
    "\n",
    "print(\"Accuracy (Logistic Regression): {}%\".format(accuracy_score(Y_test,LRPred) * 100))"
   ]
  },
  {
   "cell_type": "code",
   "execution_count": 12,
   "metadata": {},
   "outputs": [
    {
     "data": {
      "text/plain": [
       "Pipeline(memory=None,\n",
       "     steps=[('tfidfvectorizer', TfidfVectorizer(analyzer='word', binary=False, decode_error='strict',\n",
       "        dtype=<class 'numpy.float64'>, encoding='utf-8', input='content',\n",
       "        lowercase=True, max_df=0.95, max_features=None, min_df=2,\n",
       "        ngram_range=(1, 1), norm='l2', preprocessor=None, smoot...te=False)), ('bernoullinb', BernoulliNB(alpha=1.0, binarize=0.0, class_prior=None, fit_prior=True))])"
      ]
     },
     "execution_count": 12,
     "metadata": {},
     "output_type": "execute_result"
    }
   ],
   "source": [
    "# Defining Bernoulli Naive Bayes\n",
    "BNBClassifier = make_pipeline(TfidfVectorizer(min_df = 2,max_df = 0.95),\n",
    "                              FunctionTransformer(lambda x: x.todense(), accept_sparse=True, validate=False),\n",
    "                              BernoulliNB())\n",
    "\n",
    "BNBClassifier.fit(X_train,Y_train)"
   ]
  },
  {
   "cell_type": "code",
   "execution_count": 13,
   "metadata": {},
   "outputs": [
    {
     "name": "stdout",
     "output_type": "stream",
     "text": [
      "Accuracy (Bernoulli Naive Bayes): 71.07843137254902%\n"
     ]
    }
   ],
   "source": [
    "# Predicting the values using Bernoulli Naive Bayes\n",
    "BNBPred = BNBClassifier.predict(X_test)\n",
    "\n",
    "print(\"Accuracy (Bernoulli Naive Bayes): {}%\".format(accuracy_score(Y_test,BNBPred) * 100))"
   ]
  }
 ],
 "metadata": {
  "kernelspec": {
   "display_name": "Python 3",
   "language": "python",
   "name": "python3"
  },
  "language_info": {
   "codemirror_mode": {
    "name": "ipython",
    "version": 3
   },
   "file_extension": ".py",
   "mimetype": "text/x-python",
   "name": "python",
   "nbconvert_exporter": "python",
   "pygments_lexer": "ipython3",
   "version": "3.6.7"
  }
 },
 "nbformat": 4,
 "nbformat_minor": 2
}
