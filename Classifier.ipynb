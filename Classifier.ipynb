{
 "cells": [
  {
   "cell_type": "code",
   "execution_count": 1,
   "metadata": {},
   "outputs": [],
   "source": [
    "import numpy as np\n",
    "import pandas as pd\n",
    "import seaborn as sns\n",
    "import matplotlib.pyplot as plt\n",
    "%matplotlib inline"
   ]
  },
  {
   "cell_type": "code",
   "execution_count": 2,
   "metadata": {},
   "outputs": [],
   "source": [
    "#Loading Data\n",
    "data = pd.read_csv('poems.csv')"
   ]
  },
  {
   "cell_type": "code",
   "execution_count": 3,
   "metadata": {},
   "outputs": [
    {
     "data": {
      "text/html": [
       "<div>\n",
       "<style scoped>\n",
       "    .dataframe tbody tr th:only-of-type {\n",
       "        vertical-align: middle;\n",
       "    }\n",
       "\n",
       "    .dataframe tbody tr th {\n",
       "        vertical-align: top;\n",
       "    }\n",
       "\n",
       "    .dataframe thead th {\n",
       "        text-align: right;\n",
       "    }\n",
       "</style>\n",
       "<table border=\"1\" class=\"dataframe\">\n",
       "  <thead>\n",
       "    <tr style=\"text-align: right;\">\n",
       "      <th></th>\n",
       "      <th>Poem</th>\n",
       "      <th>Genre</th>\n",
       "    </tr>\n",
       "  </thead>\n",
       "  <tbody>\n",
       "    <tr>\n",
       "      <th>998</th>\n",
       "      <td>All in green went my love ridingon a great hor...</td>\n",
       "      <td>Love</td>\n",
       "    </tr>\n",
       "    <tr>\n",
       "      <th>668</th>\n",
       "      <td>Who would decry instruments— when grasses ever...</td>\n",
       "      <td>Nature</td>\n",
       "    </tr>\n",
       "    <tr>\n",
       "      <th>104</th>\n",
       "      <td>Listen, children: Your father is dead. From hi...</td>\n",
       "      <td>Death</td>\n",
       "    </tr>\n",
       "    <tr>\n",
       "      <th>967</th>\n",
       "      <td>Dear pretty youth, unveil your eyes, How can y...</td>\n",
       "      <td>Love</td>\n",
       "    </tr>\n",
       "    <tr>\n",
       "      <th>337</th>\n",
       "      <td>makes me think plurality. Maybe I can love you...</td>\n",
       "      <td>Audio</td>\n",
       "    </tr>\n",
       "  </tbody>\n",
       "</table>\n",
       "</div>"
      ],
      "text/plain": [
       "                                                  Poem   Genre\n",
       "998  All in green went my love ridingon a great hor...    Love\n",
       "668  Who would decry instruments— when grasses ever...  Nature\n",
       "104  Listen, children: Your father is dead. From hi...   Death\n",
       "967  Dear pretty youth, unveil your eyes, How can y...    Love\n",
       "337  makes me think plurality. Maybe I can love you...   Audio"
      ]
     },
     "execution_count": 3,
     "metadata": {},
     "output_type": "execute_result"
    }
   ],
   "source": [
    "data = data.sample(frac=1)\n",
    "data.head()"
   ]
  },
  {
   "cell_type": "code",
   "execution_count": 4,
   "metadata": {},
   "outputs": [
    {
     "data": {
      "text/plain": [
       "Audio     254\n",
       "Nature    253\n",
       "Death     250\n",
       "Love      242\n",
       "Name: Genre, dtype: int64"
      ]
     },
     "execution_count": 4,
     "metadata": {},
     "output_type": "execute_result"
    }
   ],
   "source": [
    "data['Genre'].value_counts()"
   ]
  },
  {
   "cell_type": "code",
   "execution_count": 5,
   "metadata": {},
   "outputs": [
    {
     "data": {
      "text/html": [
       "<div>\n",
       "<style scoped>\n",
       "    .dataframe tbody tr th:only-of-type {\n",
       "        vertical-align: middle;\n",
       "    }\n",
       "\n",
       "    .dataframe tbody tr th {\n",
       "        vertical-align: top;\n",
       "    }\n",
       "\n",
       "    .dataframe thead th {\n",
       "        text-align: right;\n",
       "    }\n",
       "</style>\n",
       "<table border=\"1\" class=\"dataframe\">\n",
       "  <thead>\n",
       "    <tr style=\"text-align: right;\">\n",
       "      <th></th>\n",
       "      <th>Poem</th>\n",
       "      <th>Genre</th>\n",
       "    </tr>\n",
       "  </thead>\n",
       "  <tbody>\n",
       "    <tr>\n",
       "      <th>998</th>\n",
       "      <td>all in green went my love ridingon a great hor...</td>\n",
       "      <td>Love</td>\n",
       "    </tr>\n",
       "    <tr>\n",
       "      <th>668</th>\n",
       "      <td>who would decry instruments— when grasses ever...</td>\n",
       "      <td>Nature</td>\n",
       "    </tr>\n",
       "    <tr>\n",
       "      <th>104</th>\n",
       "      <td>listen children your father is dead from his o...</td>\n",
       "      <td>Death</td>\n",
       "    </tr>\n",
       "    <tr>\n",
       "      <th>967</th>\n",
       "      <td>dear pretty youth unveil your eyes how can you...</td>\n",
       "      <td>Love</td>\n",
       "    </tr>\n",
       "    <tr>\n",
       "      <th>337</th>\n",
       "      <td>makes me think plurality maybe i can love you ...</td>\n",
       "      <td>Audio</td>\n",
       "    </tr>\n",
       "  </tbody>\n",
       "</table>\n",
       "</div>"
      ],
      "text/plain": [
       "                                                  Poem   Genre\n",
       "998  all in green went my love ridingon a great hor...    Love\n",
       "668  who would decry instruments— when grasses ever...  Nature\n",
       "104  listen children your father is dead from his o...   Death\n",
       "967  dear pretty youth unveil your eyes how can you...    Love\n",
       "337  makes me think plurality maybe i can love you ...   Audio"
      ]
     },
     "execution_count": 5,
     "metadata": {},
     "output_type": "execute_result"
    }
   ],
   "source": [
    "import nltk\n",
    "import string\n",
    "\n",
    "# Function for removing punctuations from poems\n",
    "def rem_punc(text):\n",
    "    punctuation = string.punctuation + '“”|”|,'\n",
    "    for i in punctuation:\n",
    "        text = text.replace(i,\"\")\n",
    "    return text\n",
    "\n",
    "def to_lower(text):\n",
    "    return text.lower()\n",
    "\n",
    "# Converting poems to lowercase\n",
    "data['Poem'] = data['Poem'].apply(to_lower)\n",
    "\n",
    "# Removing punctuations from poems\n",
    "data['Poem'] = data['Poem'].apply(rem_punc)\n",
    "\n",
    "data.head()"
   ]
  },
  {
   "cell_type": "code",
   "execution_count": 6,
   "metadata": {},
   "outputs": [
    {
     "data": {
      "application/vnd.jupyter.widget-view+json": {
       "model_id": "8b75ae874c99438ba1e98196a4a29b8e",
       "version_major": 2,
       "version_minor": 0
      },
      "text/plain": [
       "interactive(children=(Dropdown(description='genre', options=('Death', 'Audio', 'Nature', 'Love'), value='Death…"
      ]
     },
     "metadata": {},
     "output_type": "display_data"
    }
   ],
   "source": [
    "from wordcloud import WordCloud\n",
    "from ipywidgets import interact\n",
    "from sklearn.feature_extraction.stop_words import ENGLISH_STOP_WORDS\n",
    "\n",
    "genre_list = ['Death', 'Audio', 'Nature', 'Love']\n",
    "\n",
    "@interact\n",
    "def plot_word_cloud(genre=genre_list):\n",
    "    \n",
    "    sample_data = data[data['Genre'] == genre]\n",
    "    text = ' '.join(sample_data['Poem'].tolist())\n",
    "    wordcloud = WordCloud(max_font_size=60, stopwords=ENGLISH_STOP_WORDS).generate(text)\n",
    "        \n",
    "    plt.figure(figsize=(12,12))\n",
    "    plt.imshow(wordcloud)\n",
    "    plt.axis(\"off\")\n",
    "    plt.title('WordCloud for {}'.format(genre))"
   ]
  },
  {
   "cell_type": "code",
   "execution_count": 7,
   "metadata": {},
   "outputs": [],
   "source": [
    "from sklearn.model_selection import GridSearchCV, RandomizedSearchCV, train_test_split\n",
    "from sklearn.pipeline import make_pipeline, Pipeline\n",
    "from sklearn.feature_extraction.text import CountVectorizer, TfidfVectorizer\n",
    "from sklearn.naive_bayes import MultinomialNB\n",
    "from sklearn.metrics import classification_report, accuracy_score\n",
    "from sklearn.preprocessing import OneHotEncoder"
   ]
  },
  {
   "cell_type": "code",
   "execution_count": 8,
   "metadata": {},
   "outputs": [],
   "source": [
    "X = data['Poem'] #Column for Feature\n",
    "y = data['Genre'] #Column for Prediction"
   ]
  },
  {
   "cell_type": "code",
   "execution_count": 9,
   "metadata": {},
   "outputs": [
    {
     "name": "stdout",
     "output_type": "stream",
     "text": [
      "The shape of our dtm with stop_words=None is: (999, 10510)\n",
      "The shape of our dtm with stop_words=english is: (999, 10240)\n"
     ]
    }
   ],
   "source": [
    "for stop_words in [None, \"english\"]:\n",
    "\n",
    "    vect = CountVectorizer(ngram_range=(1,1), stop_words=stop_words)\n",
    "    data_dtm = vect.fit_transform(X)\n",
    "    print('The shape of our dtm with stop_words={} is: {}'.format(stop_words, data_dtm.shape))"
   ]
  },
  {
   "cell_type": "code",
   "execution_count": 10,
   "metadata": {},
   "outputs": [],
   "source": [
    "X_train, X_test, y_train, y_test = train_test_split(X, y, random_state=1)"
   ]
  },
  {
   "cell_type": "code",
   "execution_count": 11,
   "metadata": {},
   "outputs": [
    {
     "name": "stdout",
     "output_type": "stream",
     "text": [
      "              precision    recall  f1-score   support\n",
      "\n",
      "       Audio       0.49      0.25      0.33        76\n",
      "       Death       0.33      0.53      0.41        53\n",
      "        Love       0.38      0.34      0.36        62\n",
      "      Nature       0.38      0.46      0.42        59\n",
      "\n",
      "   micro avg       0.38      0.38      0.38       250\n",
      "   macro avg       0.39      0.39      0.38       250\n",
      "weighted avg       0.40      0.38      0.37       250\n",
      "\n"
     ]
    }
   ],
   "source": [
    "vect = CountVectorizer(ngram_range=(1,2), stop_words=ENGLISH_STOP_WORDS)\n",
    "\n",
    "X_train_dtm = vect.fit_transform(X_train)\n",
    "X_test_dtm = vect.transform(X_test)\n",
    "\n",
    "clf = MultinomialNB()\n",
    "\n",
    "clf.fit(X_train_dtm, y_train)\n",
    "y_pred = clf.predict(X_test_dtm)\n",
    "\n",
    "print(classification_report(y_test, y_pred))"
   ]
  },
  {
   "cell_type": "code",
   "execution_count": 12,
   "metadata": {},
   "outputs": [],
   "source": [
    "from nltk.stem.lancaster import LancasterStemmer\n",
    "from nltk.stem.porter import PorterStemmer\n",
    "\n",
    "lancast_stemmer = LancasterStemmer()\n",
    "porter_stemmer = PorterStemmer()"
   ]
  },
  {
   "cell_type": "code",
   "execution_count": 13,
   "metadata": {},
   "outputs": [],
   "source": [
    "data['Lyrics_Lancast_Stem'] = data['Poem'].apply(lambda x: ' '.join([lancast_stemmer.stem(y) if y not in ENGLISH_STOP_WORDS \n",
    "                                                                     else y for y in x.split()]))\n",
    "data['Lyrics_Porter_Stem'] = data['Poem'].apply(lambda x: ' '.join([porter_stemmer.stem(y) if y not in ENGLISH_STOP_WORDS \n",
    "                                                                    else y for y in x.split()]))"
   ]
  },
  {
   "cell_type": "code",
   "execution_count": 18,
   "metadata": {},
   "outputs": [
    {
     "name": "stdout",
     "output_type": "stream",
     "text": [
      "Lancaster Stemming: light out along the land light out upon the sea the night must put her hid hand o’er peac town where childr sleep and peac ship that dark creep across the wav as if they were not freeth dragon of the air the hellhound of the deep lurk and prowl everywhere go for to seek their helpless prey not\n",
      "Porter Stemming: light out along the land light out upon the sea the night must put her hide hand o’er peac town where children sleep and peac ship that darkli creep across the wave as if they were not freeth dragon of the air the hellhound of the deep lurk and prowl everywhere go forth to seek their helpless prey not\n"
     ]
    }
   ],
   "source": [
    "print('Lancaster Stemming: {}\\nPorter Stemming: {}'.format(data.loc[1, 'Lyrics_Lancast_Stem'], data.loc[1, 'Lyrics_Porter_Stem']))"
   ]
  },
  {
   "cell_type": "code",
   "execution_count": 19,
   "metadata": {},
   "outputs": [
    {
     "name": "stdout",
     "output_type": "stream",
     "text": [
      "The shape of our dtm after lancaster stemming is: (999, 7851)\n",
      "The shape of our dtm after porter stemming is: (999, 8558)\n"
     ]
    }
   ],
   "source": [
    "lancast_vect = CountVectorizer(ngram_range=(1,1), stop_words=ENGLISH_STOP_WORDS)\n",
    "porter_vect = CountVectorizer(ngram_range=(1,1), stop_words=ENGLISH_STOP_WORDS)\n",
    "\n",
    "data_dtm_lancast = lancast_vect.fit_transform(data['Lyrics_Lancast_Stem'])\n",
    "data_dtm_porter = porter_vect.fit_transform(data['Lyrics_Porter_Stem'])\n",
    "\n",
    "print('The shape of our dtm after lancaster stemming is: {}'.format(data_dtm_lancast.shape))\n",
    "print('The shape of our dtm after porter stemming is: {}'.format(data_dtm_porter.shape))"
   ]
  },
  {
   "cell_type": "code",
   "execution_count": 20,
   "metadata": {},
   "outputs": [
    {
     "name": "stdout",
     "output_type": "stream",
     "text": [
      "Best CV Score: 0.42\n",
      "Best parameters: {'countvectorizer__min_df': 0, 'countvectorizer__ngram_range': (1, 1)}\n",
      "Score for test sample held out: 0.39\n"
     ]
    },
    {
     "name": "stderr",
     "output_type": "stream",
     "text": [
      "/home/adirtha/anaconda3/lib/python3.6/site-packages/sklearn/model_selection/_search.py:841: DeprecationWarning: The default of the `iid` parameter will change from True to False in version 0.22 and will be removed in 0.24. This will change numeric results when test-set sizes are unequal.\n",
      "  DeprecationWarning)\n"
     ]
    }
   ],
   "source": [
    "\n",
    "X = data['Lyrics_Lancast_Stem']\n",
    "X_train, X_test, y_train, y_test = train_test_split(X, y, test_size=.1, random_state=1)\n",
    "\n",
    "pipe = make_pipeline(CountVectorizer(stop_words=ENGLISH_STOP_WORDS), MultinomialNB())\n",
    "\n",
    "params = {\n",
    "    'countvectorizer__ngram_range':[(1,1), (1,2), (1,3)],\n",
    "    'countvectorizer__min_df':[0, 2, 3, 4, 5, 6, 7, 8]\n",
    "}\n",
    "\n",
    "grid = GridSearchCV(pipe, params, cv=5)\n",
    "grid.fit(X_train, y_train)\n",
    "print(\"Best CV Score: {:.2f}\".format(grid.best_score_))\n",
    "print(\"Best parameters: {}\".format(grid.best_params_))\n",
    "print(\"Score for test sample held out: {}\".format(accuracy_score(y_test, grid.predict(X_test))))"
   ]
  },
  {
   "cell_type": "code",
   "execution_count": 21,
   "metadata": {},
   "outputs": [
    {
     "name": "stdout",
     "output_type": "stream",
     "text": [
      "Best CV Score: 0.44\n",
      "Best parameters: {'countvectorizer__min_df': 5, 'countvectorizer__ngram_range': (1, 1)}\n",
      "Score for test sample held out: 0.38\n"
     ]
    }
   ],
   "source": [
    "X = data['Lyrics_Porter_Stem']\n",
    "X_train, X_test, y_train, y_test = train_test_split(X, y, test_size=.1, random_state=1)\n",
    "\n",
    "pipe = make_pipeline(CountVectorizer(stop_words=ENGLISH_STOP_WORDS), MultinomialNB())\n",
    "\n",
    "params = {\n",
    "    'countvectorizer__ngram_range':[(1,1), (1,2), (1,3)],\n",
    "    'countvectorizer__min_df':[0, 2, 3, 4, 5, 6, 7, 8]\n",
    "}\n",
    "\n",
    "grid = GridSearchCV(pipe, params, cv=5)\n",
    "grid.fit(X_train, y_train)\n",
    "print(\"Best CV Score: {:.2f}\".format(grid.best_score_))\n",
    "print(\"Best parameters: {}\".format(grid.best_params_))\n",
    "print(\"Score for test sample held out: {}\".format(accuracy_score(y_test, grid.predict(X_test))))"
   ]
  },
  {
   "cell_type": "code",
   "execution_count": null,
   "metadata": {},
   "outputs": [],
   "source": []
  }
 ],
 "metadata": {
  "kernelspec": {
   "display_name": "Python 3",
   "language": "python",
   "name": "python3"
  },
  "language_info": {
   "codemirror_mode": {
    "name": "ipython",
    "version": 3
   },
   "file_extension": ".py",
   "mimetype": "text/x-python",
   "name": "python",
   "nbconvert_exporter": "python",
   "pygments_lexer": "ipython3",
   "version": "3.6.7"
  }
 },
 "nbformat": 4,
 "nbformat_minor": 2
}
